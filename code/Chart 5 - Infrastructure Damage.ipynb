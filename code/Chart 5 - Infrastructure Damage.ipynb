{
 "cells": [
  {
   "cell_type": "markdown",
   "id": "1a9ec3fd",
   "metadata": {},
   "source": [
    "# Chart 5"
   ]
  },
  {
   "cell_type": "markdown",
   "id": "a1b058dd",
   "metadata": {},
   "source": [
    "<img src=\"../charts/63cLE-over-2000-instances-of-damaged-civilian-structures-were-documented.png\" alt=\"Chart as shown on original article]\" width=\"700\"/>"
   ]
  },
  {
   "cell_type": "markdown",
   "id": "92c9d3da",
   "metadata": {},
   "source": [
    "Bellingcat provides the data from their open source intelligence database in JSON format. We parsed and used it for the Datawrapper chart."
   ]
  },
  {
   "cell_type": "code",
   "execution_count": 1,
   "id": "f4458670",
   "metadata": {},
   "outputs": [],
   "source": [
    "# Import packages\n",
    "import pandas as pd"
   ]
  },
  {
   "cell_type": "code",
   "execution_count": 2,
   "id": "b636e207",
   "metadata": {},
   "outputs": [],
   "source": [
    "# Read JSON\n",
    "df = pd.read_json(\"../data/Bellingcat/ukr-civharm-2025-02-03.json\")"
   ]
  },
  {
   "cell_type": "code",
   "execution_count": 3,
   "id": "6da7e170",
   "metadata": {},
   "outputs": [],
   "source": [
    "# Getting a datetime\n",
    "df['datetime'] = pd.to_datetime(df.date, format='%m/%d/%Y')"
   ]
  },
  {
   "cell_type": "code",
   "execution_count": 4,
   "id": "6228d8f6",
   "metadata": {},
   "outputs": [],
   "source": [
    "# Setting datetime as index\n",
    "df = df.set_index('datetime')"
   ]
  },
  {
   "cell_type": "code",
   "execution_count": 5,
   "id": "98bf549b",
   "metadata": {},
   "outputs": [
    {
     "data": {
      "text/plain": [
       "<Axes: xlabel='datetime'>"
      ]
     },
     "execution_count": 5,
     "metadata": {},
     "output_type": "execute_result"
    },
    {
     "data": {
      "image/png": "[encoded data removed]",
      "text/plain": [
       "<Figure size 640x480 with 1 Axes>"
      ]
     },
     "metadata": {},
     "output_type": "display_data"
    }
   ],
   "source": [
    "# Shape is similar to the UN civiliam casualty data, suggesting that they are capturing a same trend\n",
    "df.resample('M').id.count().plot()"
   ]
  },
  {
   "cell_type": "code",
   "execution_count": 6,
   "id": "61ce8fee",
   "metadata": {},
   "outputs": [],
   "source": [
    "# Function to parse filters of the JSON file\n",
    "def get_keys(row):\n",
    "    \n",
    "    filters = row.filters\n",
    "    \n",
    "    for item in filters:\n",
    "        \n",
    "        k,v = item.items()\n",
    "        return pd.Series({k[1]:v[1]})"
   ]
  },
  {
   "cell_type": "code",
   "execution_count": 7,
   "id": "90067581",
   "metadata": {},
   "outputs": [],
   "source": [
    "# Apply the function to have the filters as columns\n",
    "filters = df.apply(get_keys, axis=1)\n"
   ]
  },
  {
   "cell_type": "code",
   "execution_count": 8,
   "id": "b4a62910",
   "metadata": {},
   "outputs": [],
   "source": [
    "# Join dataset with the new columns\n",
    "df = pd.concat([df, filters], axis=1)"
   ]
  },
  {
   "cell_type": "code",
   "execution_count": 9,
   "id": "5dc93c5a",
   "metadata": {},
   "outputs": [],
   "source": [
    "# Creates a summary by tipe\n",
    "summary = df['Type of area affected'].value_counts().reset_index().rename(columns={\n",
    "    \"index\": \"Type of area affected\", \"Type of area affected\": \"count\"\n",
    "})"
   ]
  },
  {
   "cell_type": "code",
   "execution_count": 10,
   "id": "5f1b09a8",
   "metadata": {},
   "outputs": [
    {
     "data": {
      "text/html": [
       "<div>\n",
       "<style scoped>\n",
       "    .dataframe tbody tr th:only-of-type {\n",
       "        vertical-align: middle;\n",
       "    }\n",
       "\n",
       "    .dataframe tbody tr th {\n",
       "        vertical-align: top;\n",
       "    }\n",
       "\n",
       "    .dataframe thead th {\n",
       "        text-align: right;\n",
       "    }\n",
       "</style>\n",
       "<table border=\"1\" class=\"dataframe\">\n",
       "  <thead>\n",
       "    <tr style=\"text-align: right;\">\n",
       "      <th></th>\n",
       "      <th>Type of area affected</th>\n",
       "      <th>count</th>\n",
       "    </tr>\n",
       "  </thead>\n",
       "  <tbody>\n",
       "    <tr>\n",
       "      <th>0</th>\n",
       "      <td>Residential</td>\n",
       "      <td>927</td>\n",
       "    </tr>\n",
       "    <tr>\n",
       "      <th>1</th>\n",
       "      <td>Commercial</td>\n",
       "      <td>250</td>\n",
       "    </tr>\n",
       "    <tr>\n",
       "      <th>2</th>\n",
       "      <td>School or childcare</td>\n",
       "      <td>223</td>\n",
       "    </tr>\n",
       "    <tr>\n",
       "      <th>3</th>\n",
       "      <td>Industrial</td>\n",
       "      <td>130</td>\n",
       "    </tr>\n",
       "    <tr>\n",
       "      <th>4</th>\n",
       "      <td>Healthcare</td>\n",
       "      <td>99</td>\n",
       "    </tr>\n",
       "  </tbody>\n",
       "</table>\n",
       "</div>"
      ],
      "text/plain": [
       "  Type of area affected  count\n",
       "0           Residential    927\n",
       "1            Commercial    250\n",
       "2   School or childcare    223\n",
       "3            Industrial    130\n",
       "4            Healthcare     99"
      ]
     },
     "execution_count": 10,
     "metadata": {},
     "output_type": "execute_result"
    }
   ],
   "source": [
    "summary.head()"
   ]
  },
  {
   "cell_type": "code",
   "execution_count": 11,
   "id": "712c6eb8",
   "metadata": {},
   "outputs": [],
   "source": [
    "# Save the data\n",
    "summary.to_csv(\"../output/attacks-by-type-of-area-affected.csv\", index=False)"
   ]
  },
  {
   "cell_type": "code",
   "execution_count": 12,
   "id": "a0f57639",
   "metadata": {},
   "outputs": [
    {
     "data": {
      "text/plain": [
       "'Military Institute of Telecommunications and Information Technologies destroyed after a strike, reportedly killing 58 people and injuring 328 people.'"
      ]
     },
     "execution_count": 12,
     "metadata": {},
     "output_type": "execute_result"
    }
   ],
   "source": [
    "# Examples of descriptions provided\n",
    "df[df['Type of area affected']=='Military'].iloc[4]['description']"
   ]
  },
  {
   "cell_type": "code",
   "execution_count": 13,
   "id": "99ee5af3",
   "metadata": {},
   "outputs": [
    {
     "data": {
      "text/plain": [
       "[{'id': 'src2677',\n",
       "  'path': 'https://t.me/suspilnezaporizhzhya/12354',\n",
       "  'description': 'Aftermath of reported strikes; two people reportedly wounded.'},\n",
       " {'id': 'src2678',\n",
       "  'path': 'https://suspilne.media/456144-protagom-minuloi-dobi-armia-rf-zavdala-ponad-100-udariv-po-zaporizkij-oblasti-e-poraneni/',\n",
       "  'description': 'Aftermath of reported strikes; two people reportedly wounded.'},\n",
       " {'id': 'src2679',\n",
       "  'path': 'https://zp.npu.gov.ua/news/obstriliani-budynky-ta-punkt-nadannia-humdopomohy-naslidky-zbroinoi-ataky-na-zaporizhzhi-zadokumentuvaly-politseiski',\n",
       "  'description': 'Aftermath of reported strikes; two people reportedly wounded.'}]"
      ]
     },
     "execution_count": 13,
     "metadata": {},
     "output_type": "execute_result"
    }
   ],
   "source": [
    "df[df['Type of area affected']=='Undefined'].iloc[9]['sources']"
   ]
  }
 ],
 "metadata": {
  "kernelspec": {
   "display_name": "Python 3 (ipykernel)",
   "language": "python",
   "name": "python3"
  },
  "language_info": {
   "codemirror_mode": {
    "name": "ipython",
    "version": 3
   },
   "file_extension": ".py",
   "mimetype": "text/x-python",
   "name": "python",
   "nbconvert_exporter": "python",
   "pygments_lexer": "ipython3",
   "version": "3.10.12"
  }
 },
 "nbformat": 4,
 "nbformat_minor": 5
}
