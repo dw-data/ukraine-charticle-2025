{
 "cells": [
  {
   "cell_type": "markdown",
   "id": "53a5f067",
   "metadata": {},
   "source": [
    "# Chart 1"
   ]
  },
  {
   "cell_type": "markdown",
   "id": "762f4d0c",
   "metadata": {},
   "source": [
    "<img src=\"../charts/4NfHB-after-initial-victories-and-following-pushback-russian-advanced-slowly.png\" alt=\"Chart as shown on original article\" width=\"700\"/>"
   ]
  },
  {
   "cell_type": "markdown",
   "id": "526bd66b",
   "metadata": {},
   "source": [
    "We are using data compiled by [Brookings Instituion](https://www.brookings.edu/articles/ukraine-index-tracking-developments-in-the-ukraine-war/). Their original source is the [Institute for the Study of War](https://www.understandingwar.org/backgrounder/ukraine-conflict-updates) and [AEI's Critical Threats Project](https://www.criticalthreats.org/)."
   ]
  },
  {
   "cell_type": "code",
   "execution_count": 3,
   "id": "1ee1194b",
   "metadata": {},
   "outputs": [],
   "source": [
    "# Import packages\n",
    "import pandas as pd"
   ]
  },
  {
   "cell_type": "code",
   "execution_count": 13,
   "id": "e4ec1f93",
   "metadata": {},
   "outputs": [],
   "source": [
    "# Reads the Excel and removes footnotes and heading\n",
    "df = pd.read_excel(\"../data/Brookings/Brookings-Ukraine-Index_Territory_01.17.2024.xlsx\", skiprows=2, skipfooter=7)"
   ]
  },
  {
   "cell_type": "code",
   "execution_count": 4,
   "id": "d8d93703",
   "metadata": {},
   "outputs": [
    {
     "ename": "NameError",
     "evalue": "name 'df' is not defined",
     "output_type": "error",
     "traceback": [
      "\u001b[0;31m---------------------------------------------------------------------------\u001b[0m",
      "\u001b[0;31mNameError\u001b[0m                                 Traceback (most recent call last)",
      "Cell \u001b[0;32mIn[4], line 2\u001b[0m\n\u001b[1;32m      1\u001b[0m \u001b[38;5;66;03m# Saves the data that will be used on Datawrapper\u001b[39;00m\n\u001b[0;32m----> 2\u001b[0m \u001b[43mdf\u001b[49m\u001b[38;5;241m.\u001b[39mto_csv(\u001b[38;5;124m\"\u001b[39m\u001b[38;5;124m../output/share-of-territory.csv\u001b[39m\u001b[38;5;124m\"\u001b[39m, index\u001b[38;5;241m=\u001b[39m\u001b[38;5;28;01mFalse\u001b[39;00m)\n",
      "\u001b[0;31mNameError\u001b[0m: name 'df' is not defined"
     ]
    }
   ],
   "source": [
    "# Saves the data that will be used on Datawrapper\n",
    "df.to_csv(\"../output/share-of-territory.csv\", index=False)"
   ]
  }
 ],
 "metadata": {
  "kernelspec": {
   "display_name": "Python 3 (ipykernel)",
   "language": "python",
   "name": "python3"
  },
  "language_info": {
   "codemirror_mode": {
    "name": "ipython",
    "version": 3
   },
   "file_extension": ".py",
   "mimetype": "text/x-python",
   "name": "python",
   "nbconvert_exporter": "python",
   "pygments_lexer": "ipython3",
   "version": "3.10.12"
  }
 },
 "nbformat": 4,
 "nbformat_minor": 5
}
